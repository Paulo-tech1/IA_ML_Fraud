{
 "cells": [
  {
   "cell_type": "markdown",
   "id": "4ed163ae",
   "metadata": {},
   "source": [
    "# 1 - Introdução\n",
    "O objetivo é, a partir de uma base de dados determinar se clientes estao realizando uma tranferencia fraudulente"
   ]
  },
  {
   "cell_type": "markdown",
   "id": "56efaeac",
   "metadata": {},
   "source": [
    "# 1.1 - Coletando Dados"
   ]
  },
  {
   "cell_type": "code",
   "execution_count": 1,
   "id": "ad44deb7",
   "metadata": {},
   "outputs": [],
   "source": [
    "import pandas as pd\n",
    "import matplotlib.pyplot as plt\n",
    "import numpy as np\n",
    "import seaborn as sns\n",
    "import warnings\n",
    "warnings.filterwarnings('ignore')"
   ]
  },
  {
   "cell_type": "code",
   "execution_count": 2,
   "id": "dcff1fd9",
   "metadata": {
    "scrolled": true
   },
   "outputs": [],
   "source": [
    "dataset = pd.read_csv('C:/Users/root/Documents/Projeto Ciência de Dados/ML_IA/card_transdata.csv')"
   ]
  },
  {
   "cell_type": "markdown",
   "id": "6496ff01",
   "metadata": {},
   "source": [
    "# 1.2 - Primeira Analise"
   ]
  },
  {
   "cell_type": "code",
   "execution_count": 3,
   "id": "1aed2e52",
   "metadata": {},
   "outputs": [
    {
     "data": {
      "text/html": [
       "<div>\n",
       "<style scoped>\n",
       "    .dataframe tbody tr th:only-of-type {\n",
       "        vertical-align: middle;\n",
       "    }\n",
       "\n",
       "    .dataframe tbody tr th {\n",
       "        vertical-align: top;\n",
       "    }\n",
       "\n",
       "    .dataframe thead th {\n",
       "        text-align: right;\n",
       "    }\n",
       "</style>\n",
       "<table border=\"1\" class=\"dataframe\">\n",
       "  <thead>\n",
       "    <tr style=\"text-align: right;\">\n",
       "      <th></th>\n",
       "      <th>distance_from_home</th>\n",
       "      <th>distance_from_last_transaction</th>\n",
       "      <th>ratio_to_median_purchase_price</th>\n",
       "      <th>repeat_retailer</th>\n",
       "      <th>used_chip</th>\n",
       "      <th>used_pin_number</th>\n",
       "      <th>online_order</th>\n",
       "      <th>fraud</th>\n",
       "    </tr>\n",
       "  </thead>\n",
       "  <tbody>\n",
       "    <tr>\n",
       "      <th>0</th>\n",
       "      <td>57.877857</td>\n",
       "      <td>0.311140</td>\n",
       "      <td>1.945940</td>\n",
       "      <td>1.0</td>\n",
       "      <td>1.0</td>\n",
       "      <td>0.0</td>\n",
       "      <td>0.0</td>\n",
       "      <td>0.0</td>\n",
       "    </tr>\n",
       "    <tr>\n",
       "      <th>1</th>\n",
       "      <td>10.829943</td>\n",
       "      <td>0.175592</td>\n",
       "      <td>1.294219</td>\n",
       "      <td>1.0</td>\n",
       "      <td>0.0</td>\n",
       "      <td>0.0</td>\n",
       "      <td>0.0</td>\n",
       "      <td>0.0</td>\n",
       "    </tr>\n",
       "    <tr>\n",
       "      <th>2</th>\n",
       "      <td>5.091079</td>\n",
       "      <td>0.805153</td>\n",
       "      <td>0.427715</td>\n",
       "      <td>1.0</td>\n",
       "      <td>0.0</td>\n",
       "      <td>0.0</td>\n",
       "      <td>1.0</td>\n",
       "      <td>0.0</td>\n",
       "    </tr>\n",
       "    <tr>\n",
       "      <th>3</th>\n",
       "      <td>2.247564</td>\n",
       "      <td>5.600044</td>\n",
       "      <td>0.362663</td>\n",
       "      <td>1.0</td>\n",
       "      <td>1.0</td>\n",
       "      <td>0.0</td>\n",
       "      <td>1.0</td>\n",
       "      <td>0.0</td>\n",
       "    </tr>\n",
       "    <tr>\n",
       "      <th>4</th>\n",
       "      <td>44.190936</td>\n",
       "      <td>0.566486</td>\n",
       "      <td>2.222767</td>\n",
       "      <td>1.0</td>\n",
       "      <td>1.0</td>\n",
       "      <td>0.0</td>\n",
       "      <td>1.0</td>\n",
       "      <td>0.0</td>\n",
       "    </tr>\n",
       "  </tbody>\n",
       "</table>\n",
       "</div>"
      ],
      "text/plain": [
       "   distance_from_home  distance_from_last_transaction  \\\n",
       "0           57.877857                        0.311140   \n",
       "1           10.829943                        0.175592   \n",
       "2            5.091079                        0.805153   \n",
       "3            2.247564                        5.600044   \n",
       "4           44.190936                        0.566486   \n",
       "\n",
       "   ratio_to_median_purchase_price  repeat_retailer  used_chip  \\\n",
       "0                        1.945940              1.0        1.0   \n",
       "1                        1.294219              1.0        0.0   \n",
       "2                        0.427715              1.0        0.0   \n",
       "3                        0.362663              1.0        1.0   \n",
       "4                        2.222767              1.0        1.0   \n",
       "\n",
       "   used_pin_number  online_order  fraud  \n",
       "0              0.0           0.0    0.0  \n",
       "1              0.0           0.0    0.0  \n",
       "2              0.0           1.0    0.0  \n",
       "3              0.0           1.0    0.0  \n",
       "4              0.0           1.0    0.0  "
      ]
     },
     "execution_count": 3,
     "metadata": {},
     "output_type": "execute_result"
    }
   ],
   "source": [
    "dataset.head()"
   ]
  },
  {
   "cell_type": "code",
   "execution_count": 4,
   "id": "26e71c3e",
   "metadata": {},
   "outputs": [
    {
     "data": {
      "text/plain": [
       "(1000000, 8)"
      ]
     },
     "execution_count": 4,
     "metadata": {},
     "output_type": "execute_result"
    }
   ],
   "source": [
    "dataset.shape"
   ]
  },
  {
   "cell_type": "markdown",
   "id": "26136574",
   "metadata": {},
   "source": [
    "## Primeiras Conclusões\n",
    "Temos 1.000.000 de observaçoes para trabalhar, isso é um ponto posistivo, nosso modeo não sofreara de falta de dados,e tambem todas as variaveis são do tipo float4, sendo assim não será necessario tratar essas variaveis por enquanto"
   ]
  },
  {
   "cell_type": "markdown",
   "id": "ecde0350",
   "metadata": {},
   "source": [
    "# 2 - Análise Descritiva\n",
    "Agora vamos buscar  por correlações, padrões, imprimir alguns graficos, afim de encontrar possiveis insights da nossa base de dados, esse passo requer uma análise detalhada e cuidadosa"
   ]
  },
  {
   "cell_type": "markdown",
   "id": "50582fc8",
   "metadata": {},
   "source": [
    "# 2.1 - Pequeno Tratamento de Nomes"
   ]
  },
  {
   "cell_type": "code",
   "execution_count": 5,
   "id": "caf9d64a",
   "metadata": {},
   "outputs": [
    {
     "data": {
      "text/plain": [
       "Index(['distance_from_home', 'distance_from_last_transaction',\n",
       "       'ratio_to_median_purchase_price', 'repeat_retailer', 'used_chip',\n",
       "       'used_pin_number', 'online_order', 'fraud'],\n",
       "      dtype='object')"
      ]
     },
     "execution_count": 5,
     "metadata": {},
     "output_type": "execute_result"
    }
   ],
   "source": [
    "dataset.columns"
   ]
  },
  {
   "cell_type": "markdown",
   "id": "9e27c106",
   "metadata": {},
   "source": [
    "## 2.2 - Epistemologia de variável"
   ]
  },
  {
   "cell_type": "code",
   "execution_count": 6,
   "id": "b824ec08",
   "metadata": {},
   "outputs": [
    {
     "data": {
      "text/plain": [
       "Index(['distance_from_home', 'distance_from_last_transaction',\n",
       "       'ratio_to_median_purchase_price', 'repeat_retailer', 'used_chip',\n",
       "       'used_pin_number', 'online_order', 'fraud'],\n",
       "      dtype='object')"
      ]
     },
     "execution_count": 6,
     "metadata": {},
     "output_type": "execute_result"
    }
   ],
   "source": [
    "dataset.columns"
   ]
  },
  {
   "cell_type": "markdown",
   "id": "8177e5a3",
   "metadata": {},
   "source": [
    "* distancia_para_casa - a distacia da casa onde a transação aconteceu.\n",
    "* distancia_ultima_transacao - a distancia da última transação que aconteceu.\n",
    "* razao_entre_media_e_transacao - Razão da transação de preço de compra para o preço de compra mediano.\n",
    "* varejista_repetido - É a transação realizada no mesmo varejista.\n",
    "* transacao_de_chip - É a transação atraves de chip (cartão de credito).\n",
    "* usou_numero_pin - A transação ocorreu usando PIN.\n",
    "* pedido_online - A transação é um pedido online.\n",
    "* fraude - A trasação é fraudulenta"
   ]
  },
  {
   "cell_type": "markdown",
   "id": "8576fa99",
   "metadata": {},
   "source": [
    "# 2.3 Resumo de Dados"
   ]
  },
  {
   "cell_type": "code",
   "execution_count": 7,
   "id": "2952f515",
   "metadata": {},
   "outputs": [
    {
     "data": {
      "text/html": [
       "<div>\n",
       "<style scoped>\n",
       "    .dataframe tbody tr th:only-of-type {\n",
       "        vertical-align: middle;\n",
       "    }\n",
       "\n",
       "    .dataframe tbody tr th {\n",
       "        vertical-align: top;\n",
       "    }\n",
       "\n",
       "    .dataframe thead th {\n",
       "        text-align: right;\n",
       "    }\n",
       "</style>\n",
       "<table border=\"1\" class=\"dataframe\">\n",
       "  <thead>\n",
       "    <tr style=\"text-align: right;\">\n",
       "      <th></th>\n",
       "      <th>distance_from_home</th>\n",
       "      <th>distance_from_last_transaction</th>\n",
       "      <th>ratio_to_median_purchase_price</th>\n",
       "      <th>repeat_retailer</th>\n",
       "      <th>used_chip</th>\n",
       "      <th>used_pin_number</th>\n",
       "      <th>online_order</th>\n",
       "      <th>fraud</th>\n",
       "    </tr>\n",
       "  </thead>\n",
       "  <tbody>\n",
       "    <tr>\n",
       "      <th>0</th>\n",
       "      <td>57.877857</td>\n",
       "      <td>0.311140</td>\n",
       "      <td>1.945940</td>\n",
       "      <td>1.0</td>\n",
       "      <td>1.0</td>\n",
       "      <td>0.0</td>\n",
       "      <td>0.0</td>\n",
       "      <td>0.0</td>\n",
       "    </tr>\n",
       "    <tr>\n",
       "      <th>1</th>\n",
       "      <td>10.829943</td>\n",
       "      <td>0.175592</td>\n",
       "      <td>1.294219</td>\n",
       "      <td>1.0</td>\n",
       "      <td>0.0</td>\n",
       "      <td>0.0</td>\n",
       "      <td>0.0</td>\n",
       "      <td>0.0</td>\n",
       "    </tr>\n",
       "    <tr>\n",
       "      <th>2</th>\n",
       "      <td>5.091079</td>\n",
       "      <td>0.805153</td>\n",
       "      <td>0.427715</td>\n",
       "      <td>1.0</td>\n",
       "      <td>0.0</td>\n",
       "      <td>0.0</td>\n",
       "      <td>1.0</td>\n",
       "      <td>0.0</td>\n",
       "    </tr>\n",
       "    <tr>\n",
       "      <th>3</th>\n",
       "      <td>2.247564</td>\n",
       "      <td>5.600044</td>\n",
       "      <td>0.362663</td>\n",
       "      <td>1.0</td>\n",
       "      <td>1.0</td>\n",
       "      <td>0.0</td>\n",
       "      <td>1.0</td>\n",
       "      <td>0.0</td>\n",
       "    </tr>\n",
       "    <tr>\n",
       "      <th>4</th>\n",
       "      <td>44.190936</td>\n",
       "      <td>0.566486</td>\n",
       "      <td>2.222767</td>\n",
       "      <td>1.0</td>\n",
       "      <td>1.0</td>\n",
       "      <td>0.0</td>\n",
       "      <td>1.0</td>\n",
       "      <td>0.0</td>\n",
       "    </tr>\n",
       "    <tr>\n",
       "      <th>5</th>\n",
       "      <td>5.586408</td>\n",
       "      <td>13.261073</td>\n",
       "      <td>0.064768</td>\n",
       "      <td>1.0</td>\n",
       "      <td>0.0</td>\n",
       "      <td>0.0</td>\n",
       "      <td>0.0</td>\n",
       "      <td>0.0</td>\n",
       "    </tr>\n",
       "    <tr>\n",
       "      <th>6</th>\n",
       "      <td>3.724019</td>\n",
       "      <td>0.956838</td>\n",
       "      <td>0.278465</td>\n",
       "      <td>1.0</td>\n",
       "      <td>0.0</td>\n",
       "      <td>0.0</td>\n",
       "      <td>1.0</td>\n",
       "      <td>0.0</td>\n",
       "    </tr>\n",
       "    <tr>\n",
       "      <th>7</th>\n",
       "      <td>4.848247</td>\n",
       "      <td>0.320735</td>\n",
       "      <td>1.273050</td>\n",
       "      <td>1.0</td>\n",
       "      <td>0.0</td>\n",
       "      <td>1.0</td>\n",
       "      <td>0.0</td>\n",
       "      <td>0.0</td>\n",
       "    </tr>\n",
       "    <tr>\n",
       "      <th>8</th>\n",
       "      <td>0.876632</td>\n",
       "      <td>2.503609</td>\n",
       "      <td>1.516999</td>\n",
       "      <td>0.0</td>\n",
       "      <td>0.0</td>\n",
       "      <td>0.0</td>\n",
       "      <td>0.0</td>\n",
       "      <td>0.0</td>\n",
       "    </tr>\n",
       "    <tr>\n",
       "      <th>9</th>\n",
       "      <td>8.839047</td>\n",
       "      <td>2.970512</td>\n",
       "      <td>2.361683</td>\n",
       "      <td>1.0</td>\n",
       "      <td>0.0</td>\n",
       "      <td>0.0</td>\n",
       "      <td>1.0</td>\n",
       "      <td>0.0</td>\n",
       "    </tr>\n",
       "    <tr>\n",
       "      <th>10</th>\n",
       "      <td>14.263530</td>\n",
       "      <td>0.158758</td>\n",
       "      <td>1.136102</td>\n",
       "      <td>1.0</td>\n",
       "      <td>1.0</td>\n",
       "      <td>0.0</td>\n",
       "      <td>1.0</td>\n",
       "      <td>0.0</td>\n",
       "    </tr>\n",
       "    <tr>\n",
       "      <th>11</th>\n",
       "      <td>13.592368</td>\n",
       "      <td>0.240540</td>\n",
       "      <td>1.370330</td>\n",
       "      <td>1.0</td>\n",
       "      <td>1.0</td>\n",
       "      <td>0.0</td>\n",
       "      <td>1.0</td>\n",
       "      <td>0.0</td>\n",
       "    </tr>\n",
       "    <tr>\n",
       "      <th>12</th>\n",
       "      <td>765.282559</td>\n",
       "      <td>0.371562</td>\n",
       "      <td>0.551245</td>\n",
       "      <td>1.0</td>\n",
       "      <td>1.0</td>\n",
       "      <td>0.0</td>\n",
       "      <td>0.0</td>\n",
       "      <td>0.0</td>\n",
       "    </tr>\n",
       "    <tr>\n",
       "      <th>13</th>\n",
       "      <td>2.131956</td>\n",
       "      <td>56.372401</td>\n",
       "      <td>6.358667</td>\n",
       "      <td>1.0</td>\n",
       "      <td>0.0</td>\n",
       "      <td>0.0</td>\n",
       "      <td>1.0</td>\n",
       "      <td>1.0</td>\n",
       "    </tr>\n",
       "    <tr>\n",
       "      <th>14</th>\n",
       "      <td>13.955972</td>\n",
       "      <td>0.271522</td>\n",
       "      <td>2.798901</td>\n",
       "      <td>1.0</td>\n",
       "      <td>0.0</td>\n",
       "      <td>0.0</td>\n",
       "      <td>1.0</td>\n",
       "      <td>0.0</td>\n",
       "    </tr>\n",
       "    <tr>\n",
       "      <th>15</th>\n",
       "      <td>179.665148</td>\n",
       "      <td>0.120920</td>\n",
       "      <td>0.535640</td>\n",
       "      <td>1.0</td>\n",
       "      <td>1.0</td>\n",
       "      <td>1.0</td>\n",
       "      <td>1.0</td>\n",
       "      <td>0.0</td>\n",
       "    </tr>\n",
       "    <tr>\n",
       "      <th>16</th>\n",
       "      <td>114.519789</td>\n",
       "      <td>0.707003</td>\n",
       "      <td>0.516990</td>\n",
       "      <td>1.0</td>\n",
       "      <td>0.0</td>\n",
       "      <td>0.0</td>\n",
       "      <td>0.0</td>\n",
       "      <td>0.0</td>\n",
       "    </tr>\n",
       "    <tr>\n",
       "      <th>17</th>\n",
       "      <td>3.589649</td>\n",
       "      <td>6.247458</td>\n",
       "      <td>1.846451</td>\n",
       "      <td>1.0</td>\n",
       "      <td>0.0</td>\n",
       "      <td>0.0</td>\n",
       "      <td>0.0</td>\n",
       "      <td>0.0</td>\n",
       "    </tr>\n",
       "    <tr>\n",
       "      <th>18</th>\n",
       "      <td>11.085152</td>\n",
       "      <td>34.661351</td>\n",
       "      <td>2.530758</td>\n",
       "      <td>1.0</td>\n",
       "      <td>0.0</td>\n",
       "      <td>0.0</td>\n",
       "      <td>1.0</td>\n",
       "      <td>0.0</td>\n",
       "    </tr>\n",
       "    <tr>\n",
       "      <th>19</th>\n",
       "      <td>6.194671</td>\n",
       "      <td>1.142014</td>\n",
       "      <td>0.307217</td>\n",
       "      <td>1.0</td>\n",
       "      <td>0.0</td>\n",
       "      <td>0.0</td>\n",
       "      <td>0.0</td>\n",
       "      <td>0.0</td>\n",
       "    </tr>\n",
       "  </tbody>\n",
       "</table>\n",
       "</div>"
      ],
      "text/plain": [
       "    distance_from_home  distance_from_last_transaction  \\\n",
       "0            57.877857                        0.311140   \n",
       "1            10.829943                        0.175592   \n",
       "2             5.091079                        0.805153   \n",
       "3             2.247564                        5.600044   \n",
       "4            44.190936                        0.566486   \n",
       "5             5.586408                       13.261073   \n",
       "6             3.724019                        0.956838   \n",
       "7             4.848247                        0.320735   \n",
       "8             0.876632                        2.503609   \n",
       "9             8.839047                        2.970512   \n",
       "10           14.263530                        0.158758   \n",
       "11           13.592368                        0.240540   \n",
       "12          765.282559                        0.371562   \n",
       "13            2.131956                       56.372401   \n",
       "14           13.955972                        0.271522   \n",
       "15          179.665148                        0.120920   \n",
       "16          114.519789                        0.707003   \n",
       "17            3.589649                        6.247458   \n",
       "18           11.085152                       34.661351   \n",
       "19            6.194671                        1.142014   \n",
       "\n",
       "    ratio_to_median_purchase_price  repeat_retailer  used_chip  \\\n",
       "0                         1.945940              1.0        1.0   \n",
       "1                         1.294219              1.0        0.0   \n",
       "2                         0.427715              1.0        0.0   \n",
       "3                         0.362663              1.0        1.0   \n",
       "4                         2.222767              1.0        1.0   \n",
       "5                         0.064768              1.0        0.0   \n",
       "6                         0.278465              1.0        0.0   \n",
       "7                         1.273050              1.0        0.0   \n",
       "8                         1.516999              0.0        0.0   \n",
       "9                         2.361683              1.0        0.0   \n",
       "10                        1.136102              1.0        1.0   \n",
       "11                        1.370330              1.0        1.0   \n",
       "12                        0.551245              1.0        1.0   \n",
       "13                        6.358667              1.0        0.0   \n",
       "14                        2.798901              1.0        0.0   \n",
       "15                        0.535640              1.0        1.0   \n",
       "16                        0.516990              1.0        0.0   \n",
       "17                        1.846451              1.0        0.0   \n",
       "18                        2.530758              1.0        0.0   \n",
       "19                        0.307217              1.0        0.0   \n",
       "\n",
       "    used_pin_number  online_order  fraud  \n",
       "0               0.0           0.0    0.0  \n",
       "1               0.0           0.0    0.0  \n",
       "2               0.0           1.0    0.0  \n",
       "3               0.0           1.0    0.0  \n",
       "4               0.0           1.0    0.0  \n",
       "5               0.0           0.0    0.0  \n",
       "6               0.0           1.0    0.0  \n",
       "7               1.0           0.0    0.0  \n",
       "8               0.0           0.0    0.0  \n",
       "9               0.0           1.0    0.0  \n",
       "10              0.0           1.0    0.0  \n",
       "11              0.0           1.0    0.0  \n",
       "12              0.0           0.0    0.0  \n",
       "13              0.0           1.0    1.0  \n",
       "14              0.0           1.0    0.0  \n",
       "15              1.0           1.0    0.0  \n",
       "16              0.0           0.0    0.0  \n",
       "17              0.0           0.0    0.0  \n",
       "18              0.0           1.0    0.0  \n",
       "19              0.0           0.0    0.0  "
      ]
     },
     "execution_count": 7,
     "metadata": {},
     "output_type": "execute_result"
    }
   ],
   "source": [
    "dataset.head(20)"
   ]
  },
  {
   "cell_type": "code",
   "execution_count": 8,
   "id": "6d496c87",
   "metadata": {},
   "outputs": [
    {
     "data": {
      "text/html": [
       "<div>\n",
       "<style scoped>\n",
       "    .dataframe tbody tr th:only-of-type {\n",
       "        vertical-align: middle;\n",
       "    }\n",
       "\n",
       "    .dataframe tbody tr th {\n",
       "        vertical-align: top;\n",
       "    }\n",
       "\n",
       "    .dataframe thead th {\n",
       "        text-align: right;\n",
       "    }\n",
       "</style>\n",
       "<table border=\"1\" class=\"dataframe\">\n",
       "  <thead>\n",
       "    <tr style=\"text-align: right;\">\n",
       "      <th></th>\n",
       "      <th>distance_from_home</th>\n",
       "      <th>distance_from_last_transaction</th>\n",
       "      <th>ratio_to_median_purchase_price</th>\n",
       "      <th>repeat_retailer</th>\n",
       "      <th>used_chip</th>\n",
       "      <th>used_pin_number</th>\n",
       "      <th>online_order</th>\n",
       "      <th>fraud</th>\n",
       "    </tr>\n",
       "  </thead>\n",
       "  <tbody>\n",
       "    <tr>\n",
       "      <th>count</th>\n",
       "      <td>1000000.000000</td>\n",
       "      <td>1000000.000000</td>\n",
       "      <td>1000000.000000</td>\n",
       "      <td>1000000.000000</td>\n",
       "      <td>1000000.000000</td>\n",
       "      <td>1000000.000000</td>\n",
       "      <td>1000000.000000</td>\n",
       "      <td>1000000.000000</td>\n",
       "    </tr>\n",
       "    <tr>\n",
       "      <th>mean</th>\n",
       "      <td>26.628792</td>\n",
       "      <td>5.036519</td>\n",
       "      <td>1.824182</td>\n",
       "      <td>0.881536</td>\n",
       "      <td>0.350399</td>\n",
       "      <td>0.100608</td>\n",
       "      <td>0.650552</td>\n",
       "      <td>0.087403</td>\n",
       "    </tr>\n",
       "    <tr>\n",
       "      <th>std</th>\n",
       "      <td>65.390784</td>\n",
       "      <td>25.843093</td>\n",
       "      <td>2.799589</td>\n",
       "      <td>0.323157</td>\n",
       "      <td>0.477095</td>\n",
       "      <td>0.300809</td>\n",
       "      <td>0.476796</td>\n",
       "      <td>0.282425</td>\n",
       "    </tr>\n",
       "    <tr>\n",
       "      <th>min</th>\n",
       "      <td>0.004874</td>\n",
       "      <td>0.000118</td>\n",
       "      <td>0.004399</td>\n",
       "      <td>0.000000</td>\n",
       "      <td>0.000000</td>\n",
       "      <td>0.000000</td>\n",
       "      <td>0.000000</td>\n",
       "      <td>0.000000</td>\n",
       "    </tr>\n",
       "    <tr>\n",
       "      <th>25%</th>\n",
       "      <td>3.878008</td>\n",
       "      <td>0.296671</td>\n",
       "      <td>0.475673</td>\n",
       "      <td>1.000000</td>\n",
       "      <td>0.000000</td>\n",
       "      <td>0.000000</td>\n",
       "      <td>0.000000</td>\n",
       "      <td>0.000000</td>\n",
       "    </tr>\n",
       "    <tr>\n",
       "      <th>50%</th>\n",
       "      <td>9.967760</td>\n",
       "      <td>0.998650</td>\n",
       "      <td>0.997717</td>\n",
       "      <td>1.000000</td>\n",
       "      <td>0.000000</td>\n",
       "      <td>0.000000</td>\n",
       "      <td>1.000000</td>\n",
       "      <td>0.000000</td>\n",
       "    </tr>\n",
       "    <tr>\n",
       "      <th>75%</th>\n",
       "      <td>25.743985</td>\n",
       "      <td>3.355748</td>\n",
       "      <td>2.096370</td>\n",
       "      <td>1.000000</td>\n",
       "      <td>1.000000</td>\n",
       "      <td>0.000000</td>\n",
       "      <td>1.000000</td>\n",
       "      <td>0.000000</td>\n",
       "    </tr>\n",
       "    <tr>\n",
       "      <th>max</th>\n",
       "      <td>10632.723672</td>\n",
       "      <td>11851.104565</td>\n",
       "      <td>267.802942</td>\n",
       "      <td>1.000000</td>\n",
       "      <td>1.000000</td>\n",
       "      <td>1.000000</td>\n",
       "      <td>1.000000</td>\n",
       "      <td>1.000000</td>\n",
       "    </tr>\n",
       "  </tbody>\n",
       "</table>\n",
       "</div>"
      ],
      "text/plain": [
       "       distance_from_home  distance_from_last_transaction  \\\n",
       "count      1000000.000000                  1000000.000000   \n",
       "mean            26.628792                        5.036519   \n",
       "std             65.390784                       25.843093   \n",
       "min              0.004874                        0.000118   \n",
       "25%              3.878008                        0.296671   \n",
       "50%              9.967760                        0.998650   \n",
       "75%             25.743985                        3.355748   \n",
       "max          10632.723672                    11851.104565   \n",
       "\n",
       "       ratio_to_median_purchase_price  repeat_retailer       used_chip  \\\n",
       "count                  1000000.000000   1000000.000000  1000000.000000   \n",
       "mean                         1.824182         0.881536        0.350399   \n",
       "std                          2.799589         0.323157        0.477095   \n",
       "min                          0.004399         0.000000        0.000000   \n",
       "25%                          0.475673         1.000000        0.000000   \n",
       "50%                          0.997717         1.000000        0.000000   \n",
       "75%                          2.096370         1.000000        1.000000   \n",
       "max                        267.802942         1.000000        1.000000   \n",
       "\n",
       "       used_pin_number    online_order           fraud  \n",
       "count   1000000.000000  1000000.000000  1000000.000000  \n",
       "mean          0.100608        0.650552        0.087403  \n",
       "std           0.300809        0.476796        0.282425  \n",
       "min           0.000000        0.000000        0.000000  \n",
       "25%           0.000000        0.000000        0.000000  \n",
       "50%           0.000000        1.000000        0.000000  \n",
       "75%           0.000000        1.000000        0.000000  \n",
       "max           1.000000        1.000000        1.000000  "
      ]
     },
     "execution_count": 8,
     "metadata": {},
     "output_type": "execute_result"
    }
   ],
   "source": [
    "dataset.describe()"
   ]
  },
  {
   "cell_type": "code",
   "execution_count": 9,
   "id": "9140237d",
   "metadata": {},
   "outputs": [
    {
     "name": "stdout",
     "output_type": "stream",
     "text": [
      "<class 'pandas.core.frame.DataFrame'>\n",
      "RangeIndex: 1000000 entries, 0 to 999999\n",
      "Data columns (total 8 columns):\n",
      " #   Column                          Non-Null Count    Dtype  \n",
      "---  ------                          --------------    -----  \n",
      " 0   distance_from_home              1000000 non-null  float64\n",
      " 1   distance_from_last_transaction  1000000 non-null  float64\n",
      " 2   ratio_to_median_purchase_price  1000000 non-null  float64\n",
      " 3   repeat_retailer                 1000000 non-null  float64\n",
      " 4   used_chip                       1000000 non-null  float64\n",
      " 5   used_pin_number                 1000000 non-null  float64\n",
      " 6   online_order                    1000000 non-null  float64\n",
      " 7   fraud                           1000000 non-null  float64\n",
      "dtypes: float64(8)\n",
      "memory usage: 61.0 MB\n"
     ]
    }
   ],
   "source": [
    "dataset.info()"
   ]
  },
  {
   "cell_type": "code",
   "execution_count": 10,
   "id": "6d0b51f0",
   "metadata": {},
   "outputs": [
    {
     "data": {
      "text/plain": [
       "distance_from_home                 20.239733\n",
       "distance_from_last_transaction    125.921226\n",
       "ratio_to_median_purchase_price      8.915015\n",
       "repeat_retailer                    -2.361310\n",
       "used_chip                           0.627134\n",
       "used_pin_number                     2.655457\n",
       "online_order                       -0.631517\n",
       "fraud                               2.921824\n",
       "dtype: float64"
      ]
     },
     "execution_count": 10,
     "metadata": {},
     "output_type": "execute_result"
    }
   ],
   "source": [
    "dataset.skew()"
   ]
  },
  {
   "cell_type": "code",
   "execution_count": 12,
   "id": "b332c8cd",
   "metadata": {},
   "outputs": [
    {
     "data": {
      "text/plain": [
       "fraud\n",
       "0.0    912597\n",
       "1.0     87403\n",
       "dtype: int64"
      ]
     },
     "execution_count": 12,
     "metadata": {},
     "output_type": "execute_result"
    }
   ],
   "source": [
    "fraudes = dataset.groupby(by='fraud').size();fraudes"
   ]
  },
  {
   "cell_type": "code",
   "execution_count": 13,
   "id": "d0367674",
   "metadata": {},
   "outputs": [
    {
     "name": "stdout",
     "output_type": "stream",
     "text": [
      "91.26% das classes são transação não-fraudulentas\n",
      "8.74% das classes são transação fraudulentas\n"
     ]
    }
   ],
   "source": [
    "positivas = fraudes[0] / fraudes.sum()\n",
    "negativas = fraudes[1] / fraudes.sum()\n",
    "\n",
    "print('%.2f%% das classes são transação não-fraudulentas' % (positivas * 100))\n",
    "print('%.2f%% das classes são transação fraudulentas' % (negativas * 100))"
   ]
  },
  {
   "cell_type": "markdown",
   "id": "2c0db206",
   "metadata": {},
   "source": [
    "# Conclusões\n",
    "Não podemos dizar com certeza, pelo menos por enquanto , se há alguma variável em distribuição normal, o método skew\n",
    "nos mostrou que há assimetria tanto positivas como negativas, em variáveis, as que aproximandamente 91% transação não-fraudulentas, teremos que lidar com isso mais tarde."
   ]
  },
  {
   "cell_type": "markdown",
   "id": "6996dd34",
   "metadata": {},
   "source": [
    "# 2.4 Visualização de Dados\n",
    "Agora vamos utilizar as bilbiotecas matplotlib e seaborn importadas no inicio do notebook para visualização de dados afim\n",
    "de ser mais compreensivel a correlação de variaveis, distribuições entre outras informações"
   ]
  },
  {
   "cell_type": "code",
   "execution_count": 14,
   "id": "86f142d3",
   "metadata": {
    "scrolled": true
   },
   "outputs": [
    {
     "data": {
      "text/plain": [
       "<Axes: >"
      ]
     },
     "execution_count": 14,
     "metadata": {},
     "output_type": "execute_result"
    },
    {
     "data": {
      "image/png": "[encoded data removed]",
      "text/plain": [
       "<Figure size 640x480 with 2 Axes>"
      ]
     },
     "metadata": {},
     "output_type": "display_data"
    }
   ],
   "source": [
    "sns.heatmap(dataset.corr(), fmt='.1f', annot=True)"
   ]
  },
  {
   "cell_type": "code",
   "execution_count": 15,
   "id": "17540815",
   "metadata": {},
   "outputs": [
    {
     "data": {
      "text/plain": [
       "Text(0, 0.5, 'Distancia média')"
      ]
     },
     "execution_count": 15,
     "metadata": {},
     "output_type": "execute_result"
    },
    {
     "data": {
      "image/png": "[encoded data removed]",
      "text/plain": [
       "<Figure size 640x480 with 1 Axes>"
      ]
     },
     "metadata": {},
     "output_type": "display_data"
    }
   ],
   "source": [
    "tmp = dataset.groupby(by='fraud')['distance_from_last_transaction'].mean()\n",
    "\n",
    "sns.barplot(x=tmp.index, y=tmp.values)\n",
    "\n",
    "plt.title('Distância da ultima transação')\n",
    "\n",
    "plt.xlabel('Fraude')\n",
    "plt.ylabel('Distancia média')"
   ]
  },
  {
   "cell_type": "code",
   "execution_count": 16,
   "id": "53cd4083",
   "metadata": {},
   "outputs": [
    {
     "data": {
      "text/plain": [
       "distance_from_home                5.780372\n",
       "distance_from_last_transaction    0.172557\n",
       "ratio_to_median_purchase_price    4.157343\n",
       "Name: 1.0, dtype: float64"
      ]
     },
     "execution_count": 16,
     "metadata": {},
     "output_type": "execute_result"
    }
   ],
   "source": [
    "dataset.groupby(by='fraud').median().iloc[:, :3].diff().iloc[1, :]"
   ]
  },
  {
   "cell_type": "markdown",
   "id": "e92ac0ea",
   "metadata": {},
   "source": [
    "### Conclusões\n",
    "As variáveis distancia_para_cas, distancia_ultima_transacao, razao_etre_media_e_transacao são sensiveis a classificação como transação fraudulenta, porque em comparação  a não-fraudulenta essas variáveis tiveram módulos - ou valores - maiores, sendo assim, elas podem ser grande indicativos para classificação se uma observação é fraude ou não"
   ]
  },
  {
   "cell_type": "markdown",
   "id": "e66d2e90",
   "metadata": {},
   "source": [
    "# Modelagem de Dados \n",
    "\n",
    "Chegou a hora de criar nosso modelo, mas antes vaos decidir qual a melhor opção se aplica"
   ]
  },
  {
   "cell_type": "markdown",
   "id": "c4e7b032",
   "metadata": {},
   "source": [
    "## 3.1 - Separando entre dados de entrada e dados de saida"
   ]
  },
  {
   "cell_type": "code",
   "execution_count": 17,
   "id": "0e0dc9e2",
   "metadata": {},
   "outputs": [],
   "source": [
    "x = dataset.drop(['fraud'], axis=1)\n",
    "y = dataset['fraud']"
   ]
  },
  {
   "cell_type": "markdown",
   "id": "0c2edc40",
   "metadata": {},
   "source": [
    "## 3.2 - Seleção de Features"
   ]
  },
  {
   "cell_type": "code",
   "execution_count": 18,
   "id": "283bd84a",
   "metadata": {},
   "outputs": [
    {
     "data": {
      "text/plain": [
       "distance_from_home                5.649520e+06\n",
       "distance_from_last_transaction    1.120338e+06\n",
       "ratio_to_median_purchase_price    9.182831e+05\n",
       "online_order                      1.287836e+04\n",
       "used_pin_number                   9.046618e+03\n",
       "used_chip                         2.415153e+03\n",
       "repeat_retailer                   2.182902e-01\n",
       "dtype: float64"
      ]
     },
     "execution_count": 18,
     "metadata": {},
     "output_type": "execute_result"
    }
   ],
   "source": [
    "from sklearn.feature_selection import SelectKBest\n",
    "from sklearn.feature_selection import chi2\n",
    "\n",
    "selector = SelectKBest(score_func=chi2, k=3)\n",
    "fit = selector.fit(x, y)\n",
    "\n",
    "tmp = {}\n",
    "i = 0\n",
    "for var in x:\n",
    "    tmp[var] = fit.scores_[i]\n",
    "    i += 1 \n",
    "    \n",
    "score = pd.Series(tmp)\n",
    "\n",
    "score.sort_values(ascending=False)"
   ]
  },
  {
   "cell_type": "markdown",
   "id": "e8adb642",
   "metadata": {},
   "source": [
    "# 3.3 - Melhorando a distribuição de variáveis"
   ]
  },
  {
   "cell_type": "code",
   "execution_count": 19,
   "id": "928f7b3f",
   "metadata": {},
   "outputs": [],
   "source": [
    "positivas = dataset.query('fraud == 1')\n",
    "negativas = dataset.query('fraud == 0').sample(len(positivas))"
   ]
  },
  {
   "cell_type": "code",
   "execution_count": 20,
   "id": "49b7df34",
   "metadata": {},
   "outputs": [],
   "source": [
    "dataset = pd.concat([positivas, negativas])"
   ]
  },
  {
   "cell_type": "code",
   "execution_count": 21,
   "id": "ff7b9b8e",
   "metadata": {},
   "outputs": [
    {
     "data": {
      "text/plain": [
       "fraud\n",
       "0.0    87403\n",
       "1.0    87403\n",
       "dtype: int64"
      ]
     },
     "execution_count": 21,
     "metadata": {},
     "output_type": "execute_result"
    }
   ],
   "source": [
    "dataset.groupby(by='fraud').size()"
   ]
  },
  {
   "cell_type": "markdown",
   "id": "200dd146",
   "metadata": {},
   "source": [
    "# 3.4 - Instanciando modelo"
   ]
  },
  {
   "cell_type": "code",
   "execution_count": 30,
   "id": "5c741ace",
   "metadata": {},
   "outputs": [],
   "source": [
    "from sklearn.ensemble import RandomForestClassifier\n",
    "from sklearn.model_selection import train_test_split\n",
    "\n",
    "x = dataset.iloc[:, :-1]\n",
    "y = dataset.iloc[:, -1]\n",
    "\n",
    "x_train, x_test, y_train, y_test = train_test_split(x, y, random_state=100, test_size=0.25)\n",
    "\n",
    "model = RandomForestClassifier(n_estimators=100)\n",
    "\n",
    "model.fit(x_train, y_train)\n",
    "\n",
    "y_pred = model.predict(x_test)\n",
    "\n"
   ]
  },
  {
   "cell_type": "markdown",
   "id": "87da79fb",
   "metadata": {},
   "source": [
    "# 3.5 - Avaliando o Modelo"
   ]
  },
  {
   "cell_type": "code",
   "execution_count": 31,
   "id": "ec5ca2a5",
   "metadata": {},
   "outputs": [
    {
     "name": "stdout",
     "output_type": "stream",
     "text": [
      "Acurácia de: 1.00\n",
      "Precisão de: 1.00\n"
     ]
    }
   ],
   "source": [
    "from sklearn import metrics\n",
    "\n",
    "accuracy = metrics.accuracy_score(y_pred, y_test)\n",
    "precision = metrics.precision_score(y_pred, y_test)\n",
    "\n",
    "print('Acurácia de: %.2f' % accuracy)\n",
    "print('Precisão de: %.2f' % precision)"
   ]
  },
  {
   "cell_type": "code",
   "execution_count": 101,
   "id": "e58ce4ee",
   "metadata": {},
   "outputs": [
    {
     "data": {
      "image/png": "[encoded data removed]",
      "text/plain": [
       "<Figure size 640x480 with 2 Axes>"
      ]
     },
     "metadata": {},
     "output_type": "display_data"
    }
   ],
   "source": [
    "sns.heatmap(metrics.confusion_matrix(y_pred, y_test), annot=True, fmt='d')\n",
    "\n",
    "plt.xlabel('Predito')\n",
    "plt.ylabel('real')\n",
    "\n",
    "plt.show()"
   ]
  },
  {
   "cell_type": "markdown",
   "id": "191d111f",
   "metadata": {},
   "source": [
    "### Conclusões\n",
    "\n",
    "Chegamos em um resultado bastante satisfatorio ao ver a acurácia, precisão e a matriz de correlação, vemos que nosso modelo quase se aproxima de 100% de acerto, mas estamos usanso 8 variaveis para determimar isso vamos buscar reduzir essa dimensionalidade"
   ]
  },
  {
   "cell_type": "markdown",
   "id": "a21a240e",
   "metadata": {},
   "source": [
    "# 4 - Melhorando o Modelo\n",
    "\n",
    "Nessa parte como dito antes vamos buscar modelar nosso algoritmo para trabalhar com menos variaveis e ainda assim atingir um resultado datisfatorio"
   ]
  },
  {
   "cell_type": "markdown",
   "id": "4e649c14",
   "metadata": {},
   "source": [
    "## 4.1 - Eliminando Variaveis"
   ]
  },
  {
   "cell_type": "code",
   "execution_count": 32,
   "id": "93939a9f",
   "metadata": {},
   "outputs": [
    {
     "data": {
      "text/plain": [
       "array([0.19945567, 0.07906226, 0.54208152, 0.00832289, 0.02597413,\n",
       "       0.03337937, 0.11172416])"
      ]
     },
     "execution_count": 32,
     "metadata": {},
     "output_type": "execute_result"
    }
   ],
   "source": [
    "model.feature_importances_"
   ]
  },
  {
   "cell_type": "code",
   "execution_count": 33,
   "id": "5026d8fa",
   "metadata": {},
   "outputs": [
    {
     "data": {
      "text/plain": [
       "<Axes: >"
      ]
     },
     "execution_count": 33,
     "metadata": {},
     "output_type": "execute_result"
    },
    {
     "data": {
      "image/png": "[encoded data removed]",
      "text/plain": [
       "<Figure size 640x480 with 1 Axes>"
      ]
     },
     "metadata": {},
     "output_type": "display_data"
    }
   ],
   "source": [
    "tmp = pd.Series()\n",
    "\n",
    "i = 0\n",
    "for var in model.feature_names_in_:\n",
    "    tmp[var] = model.feature_importances_[i]\n",
    "    i += 1\n",
    "    \n",
    "tmp = tmp.sort_values(ascending=False)\n",
    "sns.barplot(y=tmp.index, x=tmp.values,palette='mako')"
   ]
  },
  {
   "cell_type": "code",
   "execution_count": 34,
   "id": "05292f9e",
   "metadata": {},
   "outputs": [],
   "source": [
    "x = x[tmp.index[:4]]\n",
    "\n",
    "model = RandomForestClassifier(n_estimators=100)\n",
    "\n",
    "x_train, x_test, y_train, y_test = train_test_split(x, y, random_state=100, test_size=0.25)\n",
    "\n",
    "model.fit(x_train, y_train)\n",
    "\n",
    "y_pred = model.predict(x_test)"
   ]
  },
  {
   "cell_type": "code",
   "execution_count": 35,
   "id": "337b1fb1",
   "metadata": {},
   "outputs": [
    {
     "data": {
      "text/plain": [
       "0.986407944716489"
      ]
     },
     "execution_count": 35,
     "metadata": {},
     "output_type": "execute_result"
    }
   ],
   "source": [
    "model.score(x_test, y_test)"
   ]
  },
  {
   "cell_type": "code",
   "execution_count": 36,
   "id": "ae4aec95",
   "metadata": {},
   "outputs": [
    {
     "data": {
      "image/png": "[encoded data removed]",
      "text/plain": [
       "<Figure size 640x480 with 2 Axes>"
      ]
     },
     "metadata": {},
     "output_type": "display_data"
    }
   ],
   "source": [
    "sns.heatmap(metrics.confusion_matrix(y_pred, y_test), annot=True, fmt='d')\n",
    "\n",
    "plt.xlabel('Predito')\n",
    "plt.ylabel('Real')\n",
    "\n",
    "plt.show()"
   ]
  },
  {
   "cell_type": "markdown",
   "id": "e47a656b",
   "metadata": {},
   "source": [
    "### Conclusões\n",
    "\n",
    "Ao diminuir as variaveis de 8 para 4 a nossa precisão caiu 2.5%, em que aplicado ao contexto pode ser uma perda bastante significativa eu recomendaria não aplicar a redução caso não seja necessaqrio"
   ]
  },
  {
   "cell_type": "markdown",
   "id": "534a00f4",
   "metadata": {},
   "source": [
    "# 5 - Salvando o Modelo\n",
    "Vamos salvar esse modelo para ser aplicado em API, programas, algoritmos, regras de negócio futuros"
   ]
  },
  {
   "cell_type": "markdown",
   "id": "23b4da66",
   "metadata": {},
   "source": [
    "# 5.1 - Salvando o modelo como .sav"
   ]
  },
  {
   "cell_type": "code",
   "execution_count": 37,
   "id": "b2ff4726",
   "metadata": {},
   "outputs": [],
   "source": [
    "import pickle\n",
    "\n",
    "pickle.dump(model, open('randomforestclassifier.sav', 'wb'))"
   ]
  },
  {
   "cell_type": "markdown",
   "id": "70efdace",
   "metadata": {},
   "source": [
    "# 5.2 - Confirmando"
   ]
  },
  {
   "cell_type": "code",
   "execution_count": 38,
   "id": "dabddb68",
   "metadata": {},
   "outputs": [],
   "source": [
    "model = pickle.load(open('randomforestclassifier.sav', 'rb'))"
   ]
  },
  {
   "cell_type": "code",
   "execution_count": 39,
   "id": "81e61306",
   "metadata": {},
   "outputs": [
    {
     "data": {
      "text/plain": [
       "0.986407944716489"
      ]
     },
     "execution_count": 39,
     "metadata": {},
     "output_type": "execute_result"
    }
   ],
   "source": [
    "model.score(x_test, y_test)"
   ]
  },
  {
   "cell_type": "code",
   "execution_count": null,
   "id": "30217177",
   "metadata": {},
   "outputs": [],
   "source": []
  }
 ],
 "metadata": {
  "kernelspec": {
   "display_name": "Python 3 (ipykernel)",
   "language": "python",
   "name": "python3"
  },
  "language_info": {
   "codemirror_mode": {
    "name": "ipython",
    "version": 3
   },
   "file_extension": ".py",
   "mimetype": "text/x-python",
   "name": "python",
   "nbconvert_exporter": "python",
   "pygments_lexer": "ipython3",
   "version": "3.11.5"
  }
 },
 "nbformat": 4,
 "nbformat_minor": 5
}
